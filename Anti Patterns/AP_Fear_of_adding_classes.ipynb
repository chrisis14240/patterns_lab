{
  "nbformat": 4,
  "nbformat_minor": 0,
  "metadata": {
    "colab": {
      "name": "AP: Fear of adding classes.ipynb",
      "provenance": []
    },
    "kernelspec": {
      "name": "python3",
      "display_name": "Python 3"
    }
  },
  "cells": [
    {
      "cell_type": "markdown",
      "metadata": {
        "id": "EzrbfXH7bD61",
        "colab_type": "text"
      },
      "source": [
        "#Fear of adding classes\n",
        "\n",
        "Can be understood as the belief that more clases make designs more complicated. Leading to a fear of adding more clases. \n",
        "\n",
        "Even that the first statement could sound tempting. Truth is that adding classe can help reduce complexity signiificantly. Take a look of the following classes definitions:\n"
      ]
    },
    {
      "cell_type": "code",
      "metadata": {
        "id": "RNP2KiIyb91s",
        "colab_type": "code",
        "colab": {}
      },
      "source": [
        "class Animal:\n",
        "    def __init__(self, animal_type, *args):\n",
        "        self.animal_type = animal_type\n",
        "        self.args = args\n",
        "\n",
        "    def make_sound(self):\n",
        "        if self.animal_type == \"Cat\":\n",
        "            sound  = \"Meow\"\n",
        "            # Make a sound...\n",
        "        elif self.animal_type == \"Dog\":\n",
        "            sound  = \"Wow\"\n",
        "            # Make a sound..."
      ],
      "execution_count": 0,
      "outputs": []
    },
    {
      "cell_type": "markdown",
      "metadata": {
        "id": "ZBxpPumXb61N",
        "colab_type": "text"
      },
      "source": [
        "Vs..."
      ]
    },
    {
      "cell_type": "code",
      "metadata": {
        "id": "sTK19bYZa4ZV",
        "colab_type": "code",
        "colab": {}
      },
      "source": [
        "class Animal:\n",
        "    def make_sound(self):\n",
        "        raise NotImplemented(\"Subclasses of Animal should implement method 'make_sound'.\")\n",
        "\n",
        "class Cat(Animal):\n",
        "    def __init__(self, sound):\n",
        "        self.sound = sound\n",
        "\n",
        "    def make_sound(self,sound):\n",
        "        # Make a sound...\n",
        "\n",
        "class Dog(Animal):\n",
        "    def __init__(self, sound):\n",
        "        self.sound = sound\n",
        "\n",
        "    def make_sound(self,sound):\n",
        "        # Make a sound..."
      ],
      "execution_count": 0,
      "outputs": []
    }
  ]
}